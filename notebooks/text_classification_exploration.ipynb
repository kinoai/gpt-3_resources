{
 "cells": [
  {
   "cell_type": "code",
   "execution_count": 5,
   "metadata": {},
   "outputs": [],
   "source": [
    "import pandas as pd\n",
    "import dotenv\n",
    "import openai\n",
    "import os\n",
    "from functools import lru_cache\n",
    "\n",
    "\n",
    "pd.options.display.max_colwidth = 300"
   ]
  },
  {
   "cell_type": "code",
   "execution_count": 6,
   "metadata": {},
   "outputs": [],
   "source": [
    "dotenv.load_dotenv(override=True)\n",
    "openai.api_key = os.getenv(\"OPENAI_API_KEY\")"
   ]
  },
  {
   "cell_type": "code",
   "execution_count": 7,
   "metadata": {},
   "outputs": [],
   "source": [
    "examples = [\n",
    "    [\"A happy moment\", \"Positive\"],\n",
    "    [\"I am sad.\", \"Negative\"],\n",
    "    [\"I am feeling awesome\", \"Positive\"],\n",
    "]"
   ]
  },
  {
   "cell_type": "code",
   "execution_count": 13,
   "metadata": {},
   "outputs": [
    {
     "data": {
      "text/plain": [
       "<OpenAIObject classification at 0x7fac166caf90> JSON: {\n",
       "  \"completion\": {\n",
       "    \"choices\": [\n",
       "      {\n",
       "        \"finish_reason\": \"length\",\n",
       "        \"index\": 0,\n",
       "        \"logprobs\": {\n",
       "          \"text_offset\": [\n",
       "            252,\n",
       "            261,\n",
       "            262\n",
       "          ],\n",
       "          \"token_logprobs\": [\n",
       "            -0.14314717,\n",
       "            -0.048921403,\n",
       "            -0.08212928\n",
       "          ],\n",
       "          \"tokens\": [\n",
       "            \" Negative\",\n",
       "            \"\\n\",\n",
       "            \"---\"\n",
       "          ],\n",
       "          \"top_logprobs\": [\n",
       "            {\n",
       "              \" Bad\": -7.628991,\n",
       "              \" N\": -6.4706454,\n",
       "              \" Neg\": -5.853337,\n",
       "              \" Negative\": -0.14314717,\n",
       "              \" Neutral\": -2.5162282,\n",
       "              \" Not\": -7.1942635,\n",
       "              \" Positive\": -3.5270276,\n",
       "              \" Sad\": -6.9740868,\n",
       "              \" Un\": -7.7223167,\n",
       "              \" negative\": -5.6276083\n",
       "            },\n",
       "            {\n",
       "              \"\\n\": -0.048921403,\n",
       "              \"\\n\\n\": -4.450111,\n",
       "              \" \": -4.6024246,\n",
       "              \" (\": -5.5203915,\n",
       "              \" and\": -7.142053,\n",
       "              \" or\": -7.2136526,\n",
       "              \",\": -6.389622,\n",
       "              \".\": -5.851485,\n",
       "              \"/\": -6.723823,\n",
       "              \"<|endoftext|>\": -5.8544416\n",
       "            },\n",
       "            {\n",
       "              \"\\n\": -4.95196,\n",
       "              \"--\": -6.19464,\n",
       "              \"---\": -0.08212928,\n",
       "              \"----\": -5.389666,\n",
       "              \"In\": -6.257439,\n",
       "              \"Label\": -6.2424073,\n",
       "              \"Text\": -5.4569325,\n",
       "              \"The\": -5.4225373,\n",
       "              \"This\": -6.410138,\n",
       "              \"You\": -6.282801\n",
       "            }\n",
       "          ]\n",
       "        },\n",
       "        \"text\": \" Negative\\n---\"\n",
       "      }\n",
       "    ],\n",
       "    \"created\": 1625765626,\n",
       "    \"id\": \"cmpl-3JSCAUQRVvLEPLDug4GkpdNdCoVUq\",\n",
       "    \"model\": \"curie:2020-05-03\",\n",
       "    \"object\": \"text_completion\"\n",
       "  },\n",
       "  \"label\": \"Negative\",\n",
       "  \"model\": \"curie:2020-05-03\",\n",
       "  \"object\": \"classification\",\n",
       "  \"prompt\": \"Please classify a piece of text into the following categories: Positive, Negative, Neutral.\\n\\nText: I am sad.\\nLabel: Negative\\n---\\nText: A happy moment\\nLabel: Positive\\n---\\nText: I am feeling awesome\\nLabel: Positive\\n---\\nText: It is a raining day :(\\nLabel:\",\n",
       "  \"search_model\": \"ada\",\n",
       "  \"selected_examples\": [\n",
       "    {\n",
       "      \"document\": 1,\n",
       "      \"label\": \"Negative\",\n",
       "      \"text\": \"I am sad.\"\n",
       "    },\n",
       "    {\n",
       "      \"document\": 0,\n",
       "      \"label\": \"Positive\",\n",
       "      \"text\": \"A happy moment\"\n",
       "    },\n",
       "    {\n",
       "      \"document\": 2,\n",
       "      \"label\": \"Positive\",\n",
       "      \"text\": \"I am feeling awesome\"\n",
       "    }\n",
       "  ]\n",
       "}"
      ]
     },
     "execution_count": 13,
     "metadata": {},
     "output_type": "execute_result"
    }
   ],
   "source": [
    "query=\"It is a raining day :(\"\n",
    "\n",
    "response = openai.Classification.create(\n",
    "    search_model=\"ada\", \n",
    "    model=\"curie\",\n",
    "    examples=examples,\n",
    "    query=query,\n",
    "    labels=[\"Positive\", \"Negative\", \"Neutral\"],\n",
    "    max_examples=100,\n",
    "    return_prompt=True,\n",
    "    logprobs=10,\n",
    "    return_metadata=True,\n",
    "    temperature=0,\n",
    "    logit_bias={},    # Modify the likelihood of specified tokens appearing in the completion\n",
    "                        #you can pass {\"50256\": -100} to prevent the <|endoftext|> token from being generated.\n",
    ")\n",
    "response"
   ]
  },
  {
   "cell_type": "code",
   "execution_count": 10,
   "metadata": {},
   "outputs": [
    {
     "name": "stdout",
     "output_type": "stream",
     "text": [
      "It is a raining day :( Negative\n"
     ]
    }
   ],
   "source": [
    "print(query, response[\"label\"])"
   ]
  },
  {
   "cell_type": "code",
   "execution_count": 11,
   "metadata": {},
   "outputs": [
    {
     "name": "stdout",
     "output_type": "stream",
     "text": [
      "Please classify a piece of text into the following categories: Positive, Negative, Neutral.\n",
      "\n",
      "Text: I am sad.\n",
      "Label: Negative\n",
      "---\n",
      "Text: A happy moment\n",
      "Label: Positive\n",
      "---\n",
      "Text: I am feeling awesome\n",
      "Label: Positive\n",
      "---\n",
      "Text: It is a raining day :(\n",
      "Label:\n"
     ]
    }
   ],
   "source": [
    "print(response[\"prompt\"])"
   ]
  },
  {
   "cell_type": "code",
   "execution_count": null,
   "metadata": {},
   "outputs": [],
   "source": []
  }
 ],
 "metadata": {
  "interpreter": {
   "hash": "133350dff13480085618ba3c991db84c560767349fa33004d61aaefc7829ed8d"
  },
  "kernelspec": {
   "display_name": "Python 3",
   "language": "python",
   "name": "python3"
  },
  "language_info": {
   "codemirror_mode": {
    "name": "ipython",
    "version": 3
   },
   "file_extension": ".py",
   "mimetype": "text/x-python",
   "name": "python",
   "nbconvert_exporter": "python",
   "pygments_lexer": "ipython3",
   "version": "3.8.8"
  }
 },
 "nbformat": 4,
 "nbformat_minor": 4
}
